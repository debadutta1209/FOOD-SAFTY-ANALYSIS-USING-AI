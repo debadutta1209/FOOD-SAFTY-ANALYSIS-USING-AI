{
 "cells": [
  {
   "cell_type": "code",
   "execution_count": null,
   "id": "ce20aaef",
   "metadata": {},
   "outputs": [],
   "source": [
    "\n",
    "\n",
    "\n"
   ]
  },
  {
   "cell_type": "code",
   "execution_count": null,
   "id": "9649a236",
   "metadata": {},
   "outputs": [],
   "source": [
    "\n",
    "\n",
    "\n"
   ]
  },
  {
   "cell_type": "code",
   "execution_count": 3,
   "id": "073a883b",
   "metadata": {},
   "outputs": [
    {
     "name": "stdout",
     "output_type": "stream",
     "text": [
      "Enter methane ppm: 1\n",
      "Enter humidity: 1\n",
      "Enter temperature: 1\n",
      "Predicted Food Quality: 11.799999999999999\n"
     ]
    }
   ],
   "source": [
    "import numpy as np\n",
    "from sklearn.linear_model import LinearRegression\n",
    "\n",
    "\n",
    "data = np.array([\n",
    "    [10, 30, 25, 8],\n",
    "    [15, 35, 28, 7],\n",
    "    [20, 40, 30, 6],\n",
    "    [25, 45, 32, 5],\n",
    "    [30, 50, 35, 4]\n",
    "])\n",
    "\n",
    "\n",
    "X = data[:, :-1]  \n",
    "y = data[:, -1]   \n",
    "\n",
    "\n",
    "model = LinearRegression()\n",
    "model.fit(X, y)\n",
    "\n",
    "def predict_food_quality(methane_ppm, humidity, temperature):\n",
    "    new_data = np.array([[methane_ppm, humidity, temperature]])  # New data with methane ppm, humidity, and temperature readings\n",
    "    predicted_quality = model.predict(new_data)\n",
    "    return predicted_quality[0]\n",
    "\n",
    "\n",
    "methane_ppm = float(input(\"Enter methane ppm: \"))\n",
    "humidity = float(input(\"Enter humidity: \"))\n",
    "temperature = float(input(\"Enter temperature: \"))\n",
    "\n",
    "\n",
    "predicted_quality = predict_food_quality(methane_ppm, humidity, temperature)\n",
    "print(\"Predicted Food Quality:\", predicted_quality)\n",
    "\n"
   ]
  },
  {
   "cell_type": "code",
   "execution_count": null,
   "id": "b8712f69",
   "metadata": {},
   "outputs": [],
   "source": []
  }
 ],
 "metadata": {
  "kernelspec": {
   "display_name": "Python 3 (ipykernel)",
   "language": "python",
   "name": "python3"
  },
  "language_info": {
   "codemirror_mode": {
    "name": "ipython",
    "version": 3
   },
   "file_extension": ".py",
   "mimetype": "text/x-python",
   "name": "python",
   "nbconvert_exporter": "python",
   "pygments_lexer": "ipython3",
   "version": "3.11.5"
  }
 },
 "nbformat": 4,
 "nbformat_minor": 5
}
